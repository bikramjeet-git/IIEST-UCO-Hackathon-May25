{
 "cells": [
  {
   "cell_type": "code",
   "execution_count": 1,
   "id": "aa9071dd-4b65-48da-844a-a4b9265bd1f0",
   "metadata": {
    "scrolled": true
   },
   "outputs": [
    {
     "name": "stdout",
     "output_type": "stream",
     "text": [
      "Requirement already satisfied: matplotlib in ./env/lib/python3.10/site-packages (3.10.3)\n",
      "Requirement already satisfied: seaborn in ./env/lib/python3.10/site-packages (0.13.2)\n",
      "Requirement already satisfied: pandas in ./env/lib/python3.10/site-packages (2.2.3)\n",
      "Requirement already satisfied: numpy in ./env/lib/python3.10/site-packages (2.1.3)\n",
      "Requirement already satisfied: scikit-learn in ./env/lib/python3.10/site-packages (1.6.1)\n",
      "Requirement already satisfied: transformers in ./env/lib/python3.10/site-packages (4.51.3)\n",
      "Requirement already satisfied: IProgress in ./env/lib/python3.10/site-packages (0.4)\n",
      "Requirement already satisfied: Flax in ./env/lib/python3.10/site-packages (0.10.6)\n",
      "Requirement already satisfied: torch in ./env/lib/python3.10/site-packages (2.7.0)\n",
      "Requirement already satisfied: contourpy>=1.0.1 in ./env/lib/python3.10/site-packages (from matplotlib) (1.3.2)\n",
      "Requirement already satisfied: cycler>=0.10 in ./env/lib/python3.10/site-packages (from matplotlib) (0.12.1)\n",
      "Requirement already satisfied: fonttools>=4.22.0 in ./env/lib/python3.10/site-packages (from matplotlib) (4.58.0)\n",
      "Requirement already satisfied: kiwisolver>=1.3.1 in ./env/lib/python3.10/site-packages (from matplotlib) (1.4.8)\n",
      "Requirement already satisfied: packaging>=20.0 in ./env/lib/python3.10/site-packages (from matplotlib) (25.0)\n",
      "Requirement already satisfied: pillow>=8 in ./env/lib/python3.10/site-packages (from matplotlib) (11.2.1)\n",
      "Requirement already satisfied: pyparsing>=2.3.1 in ./env/lib/python3.10/site-packages (from matplotlib) (3.2.3)\n",
      "Requirement already satisfied: python-dateutil>=2.7 in ./env/lib/python3.10/site-packages (from matplotlib) (2.9.0.post0)\n",
      "Requirement already satisfied: pytz>=2020.1 in ./env/lib/python3.10/site-packages (from pandas) (2025.2)\n",
      "Requirement already satisfied: tzdata>=2022.7 in ./env/lib/python3.10/site-packages (from pandas) (2025.2)\n",
      "Requirement already satisfied: scipy>=1.6.0 in ./env/lib/python3.10/site-packages (from scikit-learn) (1.15.3)\n",
      "Requirement already satisfied: joblib>=1.2.0 in ./env/lib/python3.10/site-packages (from scikit-learn) (1.5.0)\n",
      "Requirement already satisfied: threadpoolctl>=3.1.0 in ./env/lib/python3.10/site-packages (from scikit-learn) (3.6.0)\n",
      "Requirement already satisfied: filelock in ./env/lib/python3.10/site-packages (from transformers) (3.18.0)\n",
      "Requirement already satisfied: huggingface-hub<1.0,>=0.30.0 in ./env/lib/python3.10/site-packages (from transformers) (0.31.1)\n",
      "Requirement already satisfied: pyyaml>=5.1 in ./env/lib/python3.10/site-packages (from transformers) (6.0.2)\n",
      "Requirement already satisfied: regex!=2019.12.17 in ./env/lib/python3.10/site-packages (from transformers) (2024.11.6)\n",
      "Requirement already satisfied: requests in ./env/lib/python3.10/site-packages (from transformers) (2.32.3)\n",
      "Requirement already satisfied: tokenizers<0.22,>=0.21 in ./env/lib/python3.10/site-packages (from transformers) (0.21.1)\n",
      "Requirement already satisfied: safetensors>=0.4.3 in ./env/lib/python3.10/site-packages (from transformers) (0.5.3)\n",
      "Requirement already satisfied: tqdm>=4.27 in ./env/lib/python3.10/site-packages (from transformers) (4.67.1)\n",
      "Requirement already satisfied: fsspec>=2023.5.0 in ./env/lib/python3.10/site-packages (from huggingface-hub<1.0,>=0.30.0->transformers) (2025.3.2)\n",
      "Requirement already satisfied: typing-extensions>=3.7.4.3 in ./env/lib/python3.10/site-packages (from huggingface-hub<1.0,>=0.30.0->transformers) (4.13.2)\n",
      "Requirement already satisfied: hf-xet<2.0.0,>=1.1.0 in ./env/lib/python3.10/site-packages (from huggingface-hub<1.0,>=0.30.0->transformers) (1.1.0)\n",
      "Requirement already satisfied: six in ./env/lib/python3.10/site-packages (from IProgress) (1.17.0)\n",
      "Requirement already satisfied: jax>=0.5.1 in ./env/lib/python3.10/site-packages (from Flax) (0.6.0)\n",
      "Requirement already satisfied: msgpack in ./env/lib/python3.10/site-packages (from Flax) (1.1.0)\n",
      "Requirement already satisfied: optax in ./env/lib/python3.10/site-packages (from Flax) (0.2.4)\n",
      "Requirement already satisfied: orbax-checkpoint in ./env/lib/python3.10/site-packages (from Flax) (0.11.13)\n",
      "Requirement already satisfied: tensorstore in ./env/lib/python3.10/site-packages (from Flax) (0.1.74)\n",
      "Requirement already satisfied: rich>=11.1 in ./env/lib/python3.10/site-packages (from Flax) (14.0.0)\n",
      "Requirement already satisfied: treescope>=0.1.7 in ./env/lib/python3.10/site-packages (from Flax) (0.1.9)\n",
      "Requirement already satisfied: sympy>=1.13.3 in ./env/lib/python3.10/site-packages (from torch) (1.14.0)\n",
      "Requirement already satisfied: networkx in ./env/lib/python3.10/site-packages (from torch) (3.4.2)\n",
      "Requirement already satisfied: jinja2 in ./env/lib/python3.10/site-packages (from torch) (3.1.6)\n",
      "Requirement already satisfied: jaxlib<=0.6.0,>=0.6.0 in ./env/lib/python3.10/site-packages (from jax>=0.5.1->Flax) (0.6.0)\n",
      "Requirement already satisfied: ml_dtypes>=0.5.0 in ./env/lib/python3.10/site-packages (from jax>=0.5.1->Flax) (0.5.1)\n",
      "Requirement already satisfied: opt_einsum in ./env/lib/python3.10/site-packages (from jax>=0.5.1->Flax) (3.4.0)\n",
      "Requirement already satisfied: markdown-it-py>=2.2.0 in ./env/lib/python3.10/site-packages (from rich>=11.1->Flax) (3.0.0)\n",
      "Requirement already satisfied: pygments<3.0.0,>=2.13.0 in ./env/lib/python3.10/site-packages (from rich>=11.1->Flax) (2.19.1)\n",
      "Requirement already satisfied: mdurl~=0.1 in ./env/lib/python3.10/site-packages (from markdown-it-py>=2.2.0->rich>=11.1->Flax) (0.1.2)\n",
      "Requirement already satisfied: mpmath<1.4,>=1.1.0 in ./env/lib/python3.10/site-packages (from sympy>=1.13.3->torch) (1.3.0)\n",
      "Requirement already satisfied: MarkupSafe>=2.0 in ./env/lib/python3.10/site-packages (from jinja2->torch) (3.0.2)\n",
      "Requirement already satisfied: absl-py>=0.7.1 in ./env/lib/python3.10/site-packages (from optax->Flax) (2.2.2)\n",
      "Requirement already satisfied: chex>=0.1.87 in ./env/lib/python3.10/site-packages (from optax->Flax) (0.1.89)\n",
      "Requirement already satisfied: etils[epy] in ./env/lib/python3.10/site-packages (from optax->Flax) (1.12.2)\n",
      "Requirement already satisfied: toolz>=0.9.0 in ./env/lib/python3.10/site-packages (from chex>=0.1.87->optax->Flax) (1.0.0)\n",
      "Requirement already satisfied: nest_asyncio in ./env/lib/python3.10/site-packages (from orbax-checkpoint->Flax) (1.6.0)\n",
      "Requirement already satisfied: protobuf in ./env/lib/python3.10/site-packages (from orbax-checkpoint->Flax) (5.29.4)\n",
      "Requirement already satisfied: humanize in ./env/lib/python3.10/site-packages (from orbax-checkpoint->Flax) (4.12.3)\n",
      "Requirement already satisfied: simplejson>=3.16.0 in ./env/lib/python3.10/site-packages (from orbax-checkpoint->Flax) (3.20.1)\n",
      "Requirement already satisfied: importlib_resources in ./env/lib/python3.10/site-packages (from etils[epy]->optax->Flax) (6.5.2)\n",
      "Requirement already satisfied: zipp in ./env/lib/python3.10/site-packages (from etils[epy]->optax->Flax) (3.21.0)\n",
      "Requirement already satisfied: charset-normalizer<4,>=2 in ./env/lib/python3.10/site-packages (from requests->transformers) (3.4.2)\n",
      "Requirement already satisfied: idna<4,>=2.5 in ./env/lib/python3.10/site-packages (from requests->transformers) (3.10)\n",
      "Requirement already satisfied: urllib3<3,>=1.21.1 in ./env/lib/python3.10/site-packages (from requests->transformers) (2.4.0)\n",
      "Requirement already satisfied: certifi>=2017.4.17 in ./env/lib/python3.10/site-packages (from requests->transformers) (2025.4.26)\n",
      "Note: you may need to restart the kernel to use updated packages.\n"
     ]
    }
   ],
   "source": [
    "pip install matplotlib seaborn pandas numpy scikit-learn transformers IProgress Flax torch"
   ]
  },
  {
   "cell_type": "code",
   "execution_count": null,
   "id": "6c9e7da0-4eb1-4a3a-9e82-e9d5a324c904",
   "metadata": {},
   "outputs": [],
   "source": []
  },
  {
   "cell_type": "code",
   "execution_count": 2,
   "id": "5fd3afcd-d992-4a94-bf6a-2f7ed69c3d17",
   "metadata": {},
   "outputs": [
    {
     "name": "stdout",
     "output_type": "stream",
     "text": [
      "Collecting tensorflow\n",
      "  Downloading tensorflow-2.19.0-cp310-cp310-macosx_12_0_arm64.whl.metadata (4.0 kB)\n",
      "Requirement already satisfied: absl-py>=1.0.0 in ./env/lib/python3.10/site-packages (from tensorflow) (2.2.2)\n",
      "Collecting astunparse>=1.6.0 (from tensorflow)\n",
      "  Downloading astunparse-1.6.3-py2.py3-none-any.whl.metadata (4.4 kB)\n",
      "Collecting flatbuffers>=24.3.25 (from tensorflow)\n",
      "  Downloading flatbuffers-25.2.10-py2.py3-none-any.whl.metadata (875 bytes)\n",
      "Collecting gast!=0.5.0,!=0.5.1,!=0.5.2,>=0.2.1 (from tensorflow)\n",
      "  Using cached gast-0.6.0-py3-none-any.whl.metadata (1.3 kB)\n",
      "Collecting google-pasta>=0.1.1 (from tensorflow)\n",
      "  Downloading google_pasta-0.2.0-py3-none-any.whl.metadata (814 bytes)\n",
      "Collecting libclang>=13.0.0 (from tensorflow)\n",
      "  Downloading libclang-18.1.1-1-py2.py3-none-macosx_11_0_arm64.whl.metadata (5.2 kB)\n",
      "Requirement already satisfied: opt-einsum>=2.3.2 in ./env/lib/python3.10/site-packages (from tensorflow) (3.4.0)\n",
      "Requirement already satisfied: packaging in ./env/lib/python3.10/site-packages (from tensorflow) (25.0)\n",
      "Collecting protobuf!=4.21.0,!=4.21.1,!=4.21.2,!=4.21.3,!=4.21.4,!=4.21.5,<6.0.0dev,>=3.20.3 (from tensorflow)\n",
      "  Downloading protobuf-5.29.4-cp38-abi3-macosx_10_9_universal2.whl.metadata (592 bytes)\n",
      "Requirement already satisfied: requests<3,>=2.21.0 in ./env/lib/python3.10/site-packages (from tensorflow) (2.32.3)\n",
      "Requirement already satisfied: setuptools in ./env/lib/python3.10/site-packages (from tensorflow) (80.3.1)\n",
      "Requirement already satisfied: six>=1.12.0 in ./env/lib/python3.10/site-packages (from tensorflow) (1.17.0)\n",
      "Collecting termcolor>=1.1.0 (from tensorflow)\n",
      "  Using cached termcolor-3.1.0-py3-none-any.whl.metadata (6.4 kB)\n",
      "Requirement already satisfied: typing-extensions>=3.6.6 in ./env/lib/python3.10/site-packages (from tensorflow) (4.13.2)\n",
      "Collecting wrapt>=1.11.0 (from tensorflow)\n",
      "  Downloading wrapt-1.17.2-cp310-cp310-macosx_11_0_arm64.whl.metadata (6.4 kB)\n",
      "Collecting grpcio<2.0,>=1.24.3 (from tensorflow)\n",
      "  Downloading grpcio-1.71.0-cp310-cp310-macosx_12_0_universal2.whl.metadata (3.8 kB)\n",
      "Collecting tensorboard~=2.19.0 (from tensorflow)\n",
      "  Downloading tensorboard-2.19.0-py3-none-any.whl.metadata (1.8 kB)\n",
      "Collecting keras>=3.5.0 (from tensorflow)\n",
      "  Downloading keras-3.9.2-py3-none-any.whl.metadata (6.1 kB)\n",
      "Collecting numpy<2.2.0,>=1.26.0 (from tensorflow)\n",
      "  Downloading numpy-2.1.3-cp310-cp310-macosx_14_0_arm64.whl.metadata (62 kB)\n",
      "Collecting h5py>=3.11.0 (from tensorflow)\n",
      "  Downloading h5py-3.13.0-cp310-cp310-macosx_11_0_arm64.whl.metadata (2.5 kB)\n",
      "Requirement already satisfied: ml-dtypes<1.0.0,>=0.5.1 in ./env/lib/python3.10/site-packages (from tensorflow) (0.5.1)\n",
      "Collecting tensorflow-io-gcs-filesystem>=0.23.1 (from tensorflow)\n",
      "  Downloading tensorflow_io_gcs_filesystem-0.37.1-cp310-cp310-macosx_12_0_arm64.whl.metadata (14 kB)\n",
      "Requirement already satisfied: charset-normalizer<4,>=2 in ./env/lib/python3.10/site-packages (from requests<3,>=2.21.0->tensorflow) (3.4.2)\n",
      "Requirement already satisfied: idna<4,>=2.5 in ./env/lib/python3.10/site-packages (from requests<3,>=2.21.0->tensorflow) (3.10)\n",
      "Requirement already satisfied: urllib3<3,>=1.21.1 in ./env/lib/python3.10/site-packages (from requests<3,>=2.21.0->tensorflow) (2.4.0)\n",
      "Requirement already satisfied: certifi>=2017.4.17 in ./env/lib/python3.10/site-packages (from requests<3,>=2.21.0->tensorflow) (2025.4.26)\n",
      "Collecting markdown>=2.6.8 (from tensorboard~=2.19.0->tensorflow)\n",
      "  Using cached markdown-3.8-py3-none-any.whl.metadata (5.1 kB)\n",
      "Collecting tensorboard-data-server<0.8.0,>=0.7.0 (from tensorboard~=2.19.0->tensorflow)\n",
      "  Downloading tensorboard_data_server-0.7.2-py3-none-any.whl.metadata (1.1 kB)\n",
      "Collecting werkzeug>=1.0.1 (from tensorboard~=2.19.0->tensorflow)\n",
      "  Using cached werkzeug-3.1.3-py3-none-any.whl.metadata (3.7 kB)\n",
      "Collecting wheel<1.0,>=0.23.0 (from astunparse>=1.6.0->tensorflow)\n",
      "  Using cached wheel-0.45.1-py3-none-any.whl.metadata (2.3 kB)\n",
      "Requirement already satisfied: rich in ./env/lib/python3.10/site-packages (from keras>=3.5.0->tensorflow) (14.0.0)\n",
      "Collecting namex (from keras>=3.5.0->tensorflow)\n",
      "  Downloading namex-0.0.9-py3-none-any.whl.metadata (322 bytes)\n",
      "Collecting optree (from keras>=3.5.0->tensorflow)\n",
      "  Downloading optree-0.15.0-cp310-cp310-macosx_11_0_arm64.whl.metadata (48 kB)\n",
      "Requirement already satisfied: MarkupSafe>=2.1.1 in ./env/lib/python3.10/site-packages (from werkzeug>=1.0.1->tensorboard~=2.19.0->tensorflow) (3.0.2)\n",
      "Requirement already satisfied: markdown-it-py>=2.2.0 in ./env/lib/python3.10/site-packages (from rich->keras>=3.5.0->tensorflow) (3.0.0)\n",
      "Requirement already satisfied: pygments<3.0.0,>=2.13.0 in ./env/lib/python3.10/site-packages (from rich->keras>=3.5.0->tensorflow) (2.19.1)\n",
      "Requirement already satisfied: mdurl~=0.1 in ./env/lib/python3.10/site-packages (from markdown-it-py>=2.2.0->rich->keras>=3.5.0->tensorflow) (0.1.2)\n",
      "Downloading tensorflow-2.19.0-cp310-cp310-macosx_12_0_arm64.whl (252.5 MB)\n",
      "\u001b[2K   \u001b[90m━━━━━━━━━━━━━━━━━━━━━━━━━━━━━━━━━━━━━━━━\u001b[0m \u001b[32m252.5/252.5 MB\u001b[0m \u001b[31m18.4 MB/s\u001b[0m eta \u001b[36m0:00:00\u001b[0m00:01\u001b[0m00:01\u001b[0m\n",
      "\u001b[?25hDownloading grpcio-1.71.0-cp310-cp310-macosx_12_0_universal2.whl (11.3 MB)\n",
      "\u001b[2K   \u001b[90m━━━━━━━━━━━━━━━━━━━━━━━━━━━━━━━━━━━━━━━━\u001b[0m \u001b[32m11.3/11.3 MB\u001b[0m \u001b[31m21.0 MB/s\u001b[0m eta \u001b[36m0:00:00\u001b[0m \u001b[36m0:00:01\u001b[0m\n",
      "\u001b[?25hDownloading numpy-2.1.3-cp310-cp310-macosx_14_0_arm64.whl (5.4 MB)\n",
      "\u001b[2K   \u001b[90m━━━━━━━━━━━━━━━━━━━━━━━━━━━━━━━━━━━━━━━━\u001b[0m \u001b[32m5.4/5.4 MB\u001b[0m \u001b[31m23.8 MB/s\u001b[0m eta \u001b[36m0:00:00\u001b[0ma \u001b[36m0:00:01\u001b[0m\n",
      "\u001b[?25hDownloading protobuf-5.29.4-cp38-abi3-macosx_10_9_universal2.whl (417 kB)\n",
      "Downloading tensorboard-2.19.0-py3-none-any.whl (5.5 MB)\n",
      "\u001b[2K   \u001b[90m━━━━━━━━━━━━━━━━━━━━━━━━━━━━━━━━━━━━━━━━\u001b[0m \u001b[32m5.5/5.5 MB\u001b[0m \u001b[31m19.8 MB/s\u001b[0m eta \u001b[36m0:00:00\u001b[0ma \u001b[36m0:00:01\u001b[0m\n",
      "\u001b[?25hDownloading tensorboard_data_server-0.7.2-py3-none-any.whl (2.4 kB)\n",
      "Downloading astunparse-1.6.3-py2.py3-none-any.whl (12 kB)\n",
      "Using cached wheel-0.45.1-py3-none-any.whl (72 kB)\n",
      "Downloading flatbuffers-25.2.10-py2.py3-none-any.whl (30 kB)\n",
      "Using cached gast-0.6.0-py3-none-any.whl (21 kB)\n",
      "Downloading google_pasta-0.2.0-py3-none-any.whl (57 kB)\n",
      "Downloading h5py-3.13.0-cp310-cp310-macosx_11_0_arm64.whl (2.9 MB)\n",
      "\u001b[2K   \u001b[90m━━━━━━━━━━━━━━━━━━━━━━━━━━━━━━━━━━━━━━━━\u001b[0m \u001b[32m2.9/2.9 MB\u001b[0m \u001b[31m17.2 MB/s\u001b[0m eta \u001b[36m0:00:00\u001b[0m\n",
      "\u001b[?25hDownloading keras-3.9.2-py3-none-any.whl (1.3 MB)\n",
      "\u001b[2K   \u001b[90m━━━━━━━━━━━━━━━━━━━━━━━━━━━━━━━━━━━━━━━━\u001b[0m \u001b[32m1.3/1.3 MB\u001b[0m \u001b[31m16.5 MB/s\u001b[0m eta \u001b[36m0:00:00\u001b[0m\n",
      "\u001b[?25hDownloading libclang-18.1.1-1-py2.py3-none-macosx_11_0_arm64.whl (25.8 MB)\n",
      "\u001b[2K   \u001b[90m━━━━━━━━━━━━━━━━━━━━━━━━━━━━━━━━━━━━━━━━\u001b[0m \u001b[32m25.8/25.8 MB\u001b[0m \u001b[31m18.8 MB/s\u001b[0m eta \u001b[36m0:00:00\u001b[0ma \u001b[36m0:00:01\u001b[0m\n",
      "\u001b[?25hUsing cached markdown-3.8-py3-none-any.whl (106 kB)\n",
      "Downloading tensorflow_io_gcs_filesystem-0.37.1-cp310-cp310-macosx_12_0_arm64.whl (3.5 MB)\n",
      "\u001b[2K   \u001b[90m━━━━━━━━━━━━━━━━━━━━━━━━━━━━━━━━━━━━━━━━\u001b[0m \u001b[32m3.5/3.5 MB\u001b[0m \u001b[31m16.1 MB/s\u001b[0m eta \u001b[36m0:00:00\u001b[0m00:01\u001b[0m\n",
      "\u001b[?25hUsing cached termcolor-3.1.0-py3-none-any.whl (7.7 kB)\n",
      "Using cached werkzeug-3.1.3-py3-none-any.whl (224 kB)\n",
      "Downloading wrapt-1.17.2-cp310-cp310-macosx_11_0_arm64.whl (38 kB)\n",
      "Downloading namex-0.0.9-py3-none-any.whl (5.8 kB)\n",
      "Downloading optree-0.15.0-cp310-cp310-macosx_11_0_arm64.whl (329 kB)\n",
      "Installing collected packages: namex, libclang, flatbuffers, wrapt, wheel, werkzeug, termcolor, tensorflow-io-gcs-filesystem, tensorboard-data-server, protobuf, optree, numpy, markdown, grpcio, google-pasta, gast, tensorboard, h5py, astunparse, keras, tensorflow\n",
      "\u001b[2K  Attempting uninstall: protobuf[90m━━━━━━━━━━━━━━━━━━━━━━━━━━━━━━\u001b[0m \u001b[32m 5/21\u001b[0m [werkzeug]\n",
      "\u001b[2K    Found existing installation: protobuf 6.30.2━━━━━━━━━━━━━━\u001b[0m \u001b[32m 5/21\u001b[0m [werkzeug]\n",
      "\u001b[2K    Uninstalling protobuf-6.30.2:━━━━━━━━━━━━━━━━━━━━━━━━━━━━━\u001b[0m \u001b[32m 5/21\u001b[0m [werkzeug]\n",
      "\u001b[2K      Successfully uninstalled protobuf-6.30.2━━━━━━━━━━━━━━━━\u001b[0m \u001b[32m 5/21\u001b[0m [werkzeug]\n",
      "\u001b[2K  Attempting uninstall: numpy90m━━━━━━━━━━━━━━━━━━━━━━━━━━━━━━\u001b[0m \u001b[32m 5/21\u001b[0m [werkzeug]\n",
      "\u001b[2K    Found existing installation: numpy 2.2.5━━━━━━━━━━━━━━━━━━\u001b[0m \u001b[32m 5/21\u001b[0m [werkzeug]\n",
      "\u001b[2K    Uninstalling numpy-2.2.5:90m━━━━━━━━━━━━━━━━━━━━━━━━━━━━━━\u001b[0m \u001b[32m 5/21\u001b[0m [werkzeug]\n",
      "\u001b[2K      Successfully uninstalled numpy-2.2.5━━━━━━━━━━━━━━━━━━━━\u001b[0m \u001b[32m 5/21\u001b[0m [werkzeug]\n",
      "\u001b[2K   \u001b[90m━━━━━━━━━━━━━━━━━━━━━━━━━━━━━━━━━━━━━━━━\u001b[0m \u001b[32m21/21\u001b[0m [tensorflow]1\u001b[0m [tensorflow]]\n",
      "\u001b[1A\u001b[2KSuccessfully installed astunparse-1.6.3 flatbuffers-25.2.10 gast-0.6.0 google-pasta-0.2.0 grpcio-1.71.0 h5py-3.13.0 keras-3.9.2 libclang-18.1.1 markdown-3.8 namex-0.0.9 numpy-2.1.3 optree-0.15.0 protobuf-5.29.4 tensorboard-2.19.0 tensorboard-data-server-0.7.2 tensorflow-2.19.0 tensorflow-io-gcs-filesystem-0.37.1 termcolor-3.1.0 werkzeug-3.1.3 wheel-0.45.1 wrapt-1.17.2\n",
      "Note: you may need to restart the kernel to use updated packages.\n"
     ]
    }
   ],
   "source": [
    "pip install tensorflow "
   ]
  },
  {
   "cell_type": "code",
   "execution_count": null,
   "id": "ed4b2659-80c5-469f-8c1e-a5001b37a135",
   "metadata": {},
   "outputs": [],
   "source": []
  },
  {
   "cell_type": "code",
   "execution_count": 3,
   "id": "06e689bd-f3b8-4a7f-8639-859aa7a6bb48",
   "metadata": {},
   "outputs": [
    {
     "name": "stdout",
     "output_type": "stream",
     "text": [
      "Note: you may need to restart the kernel to use updated packages.\n"
     ]
    }
   ],
   "source": [
    "pip freeze > req.txt"
   ]
  },
  {
   "cell_type": "code",
   "execution_count": 2,
   "id": "13a5afe1-49cf-4b1a-b673-f69fe6deee84",
   "metadata": {},
   "outputs": [
    {
     "name": "stderr",
     "output_type": "stream",
     "text": [
      "/Users/bikramjeetdasgupta/Uco Hackathon/env/lib/python3.10/site-packages/tqdm/auto.py:21: TqdmWarning: IProgress not found. Please update jupyter and ipywidgets. See https://ipywidgets.readthedocs.io/en/stable/user_install.html\n",
      "  from .autonotebook import tqdm as notebook_tqdm\n"
     ]
    },
    {
     "name": "stdout",
     "output_type": "stream",
     "text": [
      "Import successful!\n"
     ]
    }
   ],
   "source": [
    "import re\n",
    "import random\n",
    "import time\n",
    "from datetime import datetime\n",
    "from transformers import pipeline\n",
    "from sklearn.ensemble import IsolationForest\n",
    "import numpy as np\n",
    "import matplotlib.pyplot as plt\n",
    "import seaborn as sns\n",
    "print(\"Import successful!\")"
   ]
  },
  {
   "cell_type": "code",
   "execution_count": 3,
   "id": "58889922-2684-46aa-a6e5-7381491107ea",
   "metadata": {},
   "outputs": [],
   "source": [
    "class ScamDetector:\n",
    "    def __init__(self):\n",
    "        self.classifier = pipeline(\n",
    "    \"text-classification\", \n",
    "    model=\"distilbert-base-uncased-finetuned-sst-2-english\",\n",
    "    framework=\"pt\"  # <- force PyTorch\n",
    ")\n",
    "        \n",
    "\n",
    "    def predict(self, message: str) -> float:\n",
    "        result = self.classifier(message)[0]\n",
    "        label = result['label']\n",
    "        score = result['score']\n",
    "        return score if label == \"POSITIVE\" else 1 - score  \n",
    "\n"
   ]
  },
  {
   "cell_type": "code",
   "execution_count": 4,
   "id": "867fdc65-e311-435f-81be-1a28301fe8ae",
   "metadata": {},
   "outputs": [],
   "source": [
    "class TrustScoreSystem:\n",
    "    def __init__(self):\n",
    "        self.scam_detector = ScamDetector()\n",
    "        self.anomaly_model = IsolationForest(contamination=0.1)\n",
    "        self.train_anomaly_model()\n",
    "\n",
    "    def train_anomaly_model(self):\n",
    "        # Simulated normal user behavior dataset\n",
    "        normal_data = np.array([\n",
    "            [50, 2, 14, 0, 60],\n",
    "            [65, 1, 16, 0, 120],\n",
    "            [55, 3, 11, 0, 90],\n",
    "            [40, 4, 13, 0, 80],\n",
    "        ])\n",
    "        self.anomaly_model.fit(normal_data)\n",
    "\n",
    "    def analyze_behavior(self, typing_speed, txn_frequency, access_time, ip_change, session_duration):\n",
    "        score = 100\n",
    "\n",
    "        # Raw feature vector for anomaly detection\n",
    "        hour = datetime.strptime(access_time, \"%H:%M\").hour\n",
    "        features = np.array([[typing_speed, txn_frequency, hour, int(ip_change), session_duration]])\n",
    "        anomaly = self.anomaly_model.predict(features)[0]\n",
    "\n",
    "        if anomaly == -1:\n",
    "            score -= 30\n",
    "\n",
    "        # Traditional rules\n",
    "        if typing_speed < 20 or typing_speed > 200:\n",
    "            score -= 10\n",
    "        if txn_frequency > 10:\n",
    "            score -= 15\n",
    "        if hour < 5 or hour > 23:\n",
    "            score -= 10\n",
    "        if ip_change:\n",
    "            score -= 10\n",
    "        if session_duration < 20:\n",
    "            score -= 10\n",
    "\n",
    "        return max(0, score)\n",
    "\n",
    "    def analyze_notifications(self, notifications):\n",
    "        if not notifications:\n",
    "            return 0\n",
    "        scam_probs = [self.scam_detector.predict(n) for n in notifications]\n",
    "        max_scam_score = max(scam_probs)\n",
    "        scam_score = int(max_scam_score * 100)\n",
    "        return scam_score\n",
    "\n",
    "    def compute_trust_score(self, behavior_inputs, notifications):\n",
    "        behavior_score = self.analyze_behavior(**behavior_inputs)\n",
    "        scam_score = self.analyze_notifications(notifications)\n",
    "\n",
    "        trust_score = behavior_score - scam_score // 2\n",
    "        trust_score = max(0, min(100, trust_score))\n",
    "        return trust_score, behavior_score, scam_score\n",
    "\n",
    "    def trigger_intervention(self, trust_score):\n",
    "        if trust_score > 70:\n",
    "            return \"✅ All Clear\"\n",
    "        elif trust_score > 40:\n",
    "            print(\"⚠️ Suspected activity. Delaying for 5 seconds...\")\n",
    "            time.sleep(5)\n",
    "            return \"⚠️ Warning: Delayed transaction for confirmation\"\n",
    "        else:\n",
    "            return \"🚫 Blocked: Suspicious activity detected\"\n",
    "\n"
   ]
  },
  {
   "cell_type": "code",
   "execution_count": 22,
   "id": "efe557db-7f01-4978-ac76-70172e66fd34",
   "metadata": {},
   "outputs": [],
   "source": [
    "def visualize_trust_components(behavior_inputs, scam_score, behavior_score, trust_score):\n",
    "    labels = [\"Typing Speed\", \"Txn Frequency\", \"Access Hour\", \"IP Change\", \"Session Duration\", \"Scam Score\"]\n",
    "    hour = datetime.strptime(behavior_inputs[\"access_time\"], \"%H:%M\").hour\n",
    "    values = [\n",
    "        behavior_inputs[\"typing_speed\"],\n",
    "        behavior_inputs[\"txn_frequency\"],\n",
    "        hour,\n",
    "        int(behavior_inputs[\"ip_change\"]),\n",
    "        behavior_inputs[\"session_duration\"],\n",
    "        scam_score\n",
    "    ]\n",
    "\n",
    "    plt.figure(figsize=(10, 5))\n",
    "    sns.barplot(x=labels, y=values, hue=labels, palette=\"coolwarm\", legend=False)\n",
    "    plt.title(f\"Trust Score Breakdown (Final: {trust_score})\", fontsize=14)\n",
    "    plt.ylabel(\"Feature Value / Score\")\n",
    "    plt.xticks(rotation=30)\n",
    "    plt.tight_layout()\n",
    "    plt.show()"
   ]
  },
  {
   "cell_type": "code",
   "execution_count": 21,
   "id": "54256a82-1ca9-42f8-afe1-7cac99cb6c58",
   "metadata": {},
   "outputs": [],
   "source": [
    "def visualize_user_heatmap():\n",
    "    users_data = np.array([\n",
    "        [50, 2, 14, 0, 60],\n",
    "        [65, 1, 16, 0, 120],\n",
    "        [18, 12, 1, 1, 15],  # Suspicious\n",
    "        [40, 4, 23, 0, 80],\n",
    "        [22, 9, 2, 1, 30],   # Suspicious\n",
    "    ])\n",
    "    feature_labels = [\"Typing Speed\", \"Txn Frequency\", \"Access Hour\", \"IP Change\", \"Session Duration\"]\n",
    "\n",
    "    plt.figure(figsize=(8, 4))\n",
    "    sns.heatmap(users_data, annot=True, fmt=\"d\", cmap=\"YlOrRd\", xticklabels=feature_labels)\n",
    "    plt.title(\"User Behavior Matrix Heatmap\")\n",
    "    plt.xlabel(\"Behavioral Features\")\n",
    "    plt.ylabel(\"User Index\")\n",
    "    plt.tight_layout()\n",
    "    plt.show()\n",
    "\n"
   ]
  },
  {
   "cell_type": "code",
   "execution_count": 7,
   "id": "04646ea1-46e9-4a7a-b605-ced3fc146d86",
   "metadata": {},
   "outputs": [],
   "source": [
    "inputs = {\n",
    "    \"typing_speed\": 18,\n",
    "    \"txn_frequency\": 12,\n",
    "    \"access_time\": \"01:20\",\n",
    "    \"ip_change\": True,\n",
    "    \"session_duration\": 15\n",
    "}\n",
    "\n",
    "notifications = [\n",
    "    \"Your OTP is 395821. Do not share it with anyone\",\n",
    "    \"Urgent! Account verification required to avoid suspension\"\n",
    "]"
   ]
  },
  {
   "cell_type": "code",
   "execution_count": 9,
   "id": "ff7689fc-43cd-47de-9726-26903dad48ba",
   "metadata": {},
   "outputs": [
    {
     "name": "stderr",
     "output_type": "stream",
     "text": [
      "Device set to use mps:0\n"
     ]
    }
   ],
   "source": [
    "system = TrustScoreSystem()\n",
    "trust_score, behavior_score, scam_score = system.compute_trust_score(inputs, notifications)\n",
    "intervention = system.trigger_intervention(trust_score)\n"
   ]
  },
  {
   "cell_type": "code",
   "execution_count": 23,
   "id": "a5cf3c5d-94a9-4a2d-bf11-10100882933f",
   "metadata": {},
   "outputs": [
    {
     "name": "stdout",
     "output_type": "stream",
     "text": [
      "\n",
      "🔢 Trust Score: 13\n",
      "🔔 Action: 🚫 Blocked: Suspicious activity detected\n"
     ]
    },
    {
     "data": {
      "image/png": "[encoded data removed]",
      "text/plain": [
       "<Figure size 1000x500 with 1 Axes>"
      ]
     },
     "metadata": {},
     "output_type": "display_data"
    },
    {
     "data": {
      "image/png": "[encoded data removed]",
      "text/plain": [
       "<Figure size 800x400 with 2 Axes>"
      ]
     },
     "metadata": {},
     "output_type": "display_data"
    }
   ],
   "source": [
    "print(f\"\\n🔢 Trust Score: {trust_score}\")\n",
    "print(f\"🔔 Action: {intervention}\")\n",
    "\n",
    "# === Visualize ===\n",
    "visualize_trust_components(inputs, scam_score, behavior_score, trust_score)\n",
    "visualize_user_heatmap()"
   ]
  }
 ],
 "metadata": {
  "kernelspec": {
   "display_name": "jenv",
   "language": "python",
   "name": "jenv"
  },
  "language_info": {
   "codemirror_mode": {
    "name": "ipython",
    "version": 3
   },
   "file_extension": ".py",
   "mimetype": "text/x-python",
   "name": "python",
   "nbconvert_exporter": "python",
   "pygments_lexer": "ipython3",
   "version": "3.10.7"
  }
 },
 "nbformat": 4,
 "nbformat_minor": 5
}
